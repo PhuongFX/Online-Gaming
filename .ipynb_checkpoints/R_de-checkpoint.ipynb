{
 "cells": [
  {
   "cell_type": "markdown",
   "id": "1f3a4d78",
   "metadata": {
    "papermill": {
     "duration": 0.004128,
     "end_time": "2024-06-26T12:51:49.513180",
     "exception": false,
     "start_time": "2024-06-26T12:51:49.509052",
     "status": "completed"
    },
    "tags": []
   },
   "source": [
    "# 🎮Predicting Player Engagement: Unlocking Gaming Behavior Insights\n",
    "\n",
    "#### Introduction\n",
    "\n",
    "The online gaming industry has seen significant growth over the years, making it crucial for game developers to understand player behavior and engagement. This report outlines the process and findings of a data science project aimed at predicting player engagement levels based on various demographic and in-game metrics.\n",
    "\n",
    "#### Dataset Overview\n",
    "\n",
    "The dataset used in this analysis contains 40,034 records and 13 features capturing comprehensive metrics and demographics related to player behavior. Key features include:\n",
    "- **PlayerID:** Unique identifier for each player.\n",
    "- **Age:** Age of the player.\n",
    "- **Gender:** Gender of the player.\n",
    "- **Location:** Geographic location of the player.\n",
    "- **GameGenre:** Genre of the game the player is engaged in.\n",
    "- **PlayTimeHours:** Average hours spent playing per session.\n",
    "- **InGamePurchases:** Indicator of in-game purchases (0 = No, 1 = Yes).\n",
    "- **GameDifficulty:** Difficulty level of the game.\n",
    "- **SessionsPerWeek:** Number of gaming sessions per week.\n",
    "- **AvgSessionDurationMinutes:** Average duration of each gaming session in minutes.\n",
    "- **PlayerLevel:** Current level of the player in the game.\n",
    "- **AchievementsUnlocked:** Number of achievements unlocked by the player.\n",
    "- **EngagementLevel:** Target variable indicating the level of player engagement categorized as 'High', 'Medium', or 'Low'.\n",
    "\n",
    "#### Data Preprocessing\n",
    "\n",
    "Data preprocessing included handling missing values, encoding categorical variables, and normalizing numerical features. The categorical variables such as Gender, Location, GameGenre, and GameDifficulty were label encoded. Numerical features were scaled using standardization.\n",
    "\n",
    "#### Feature Engineering\n",
    "\n",
    "A new feature, `TotalPlayTimePerWeek`, was created by multiplying `PlayTimeHours` by `SessionsPerWeek` to enhance the model's predictive power. This feature represents the total playtime per week for each player.\n",
    "\n",
    "#### Model Building and Evaluation\n",
    "\n",
    "A Random Forest Classifier was used to predict the `EngagementLevel` of players. The dataset was split into training (70%) and testing (30%) sets. The model was trained on the training set and evaluated on the testing set.\n",
    "\n",
    "##### Performance Metrics\n",
    "\n",
    "The model's performance was evaluated using confusion matrix and classification report, which includes metrics such as accuracy, precision, recall, and F1-score.\n",
    "\n",
    "- **Accuracy:** 82%\n",
    "- **Precision:** 81% (weighted average)\n",
    "- **Recall:** 82% (weighted average)\n",
    "- **F1 Score:** 81% (weighted average)\n",
    "\n",
    "These metrics indicate that the model performs well in predicting player engagement levels.\n",
    "\n",
    "#### Feature Importance\n",
    "\n",
    "The feature importance analysis revealed that `TotalPlayTimePerWeek`, `AvgSessionDurationMinutes`, and `PlayerLevel` were among the most influential features in predicting player engagement. Understanding these key drivers can help game developers and marketers tailor their strategies to improve player retention and satisfaction.\n",
    "\n",
    "#### Conclusion\n",
    "\n",
    "This data science project successfully predicted player engagement levels using a comprehensive dataset of player demographics and in-game metrics. The Random Forest Classifier provided strong predictive performance, and the feature importance analysis highlighted critical factors influencing player engagement. Future work could involve hyperparameter tuning, exploring other machine learning models, and further feature engineering to enhance predictive accuracy.\n",
    "\n",
    "#### Recommendations\n",
    "\n",
    "1. **Game Design Optimization:** Focus on optimizing playtime and session duration to enhance player engagement.\n",
    "2. **Targeted Marketing:** Use demographic data to tailor marketing campaigns aimed at players with high engagement potential.\n",
    "3. **Personalized Player Experience:** Customize game difficulty and in-game purchases based on player profiles to increase retention.\n",
    "\n",
    "By leveraging these insights, game developers can enhance the overall player experience, leading to higher engagement and retention rates."
   ]
  },
  {
   "cell_type": "code",
   "execution_count": 1,
   "id": "f1bd00ae",
   "metadata": {
    "_cell_guid": "b1076dfc-b9ad-4769-8c92-a6c4dae69d19",
    "_uuid": "8f2839f25d086af736a60e9eeb907d3b93b6e0e5",
    "execution": {
     "iopub.execute_input": "2024-06-26T12:51:49.522830Z",
     "iopub.status.busy": "2024-06-26T12:51:49.522346Z",
     "iopub.status.idle": "2024-06-26T12:51:53.039782Z",
     "shell.execute_reply": "2024-06-26T12:51:53.038514Z"
    },
    "papermill": {
     "duration": 3.525773,
     "end_time": "2024-06-26T12:51:53.042818",
     "exception": false,
     "start_time": "2024-06-26T12:51:49.517045",
     "status": "completed"
    },
    "tags": []
   },
   "outputs": [
    {
     "name": "stdout",
     "output_type": "stream",
     "text": [
      "   PlayerID  Age  Gender Location GameGenre  PlayTimeHours  InGamePurchases  \\\n",
      "0      9000   43    Male    Other  Strategy      16.271119                0   \n",
      "1      9001   29  Female      USA  Strategy       5.525961                0   \n",
      "2      9002   22  Female      USA    Sports       8.223755                0   \n",
      "3      9003   35    Male      USA    Action       5.265351                1   \n",
      "4      9004   33    Male   Europe    Action      15.531945                0   \n",
      "\n",
      "  GameDifficulty  SessionsPerWeek  AvgSessionDurationMinutes  PlayerLevel  \\\n",
      "0         Medium                6                        108           79   \n",
      "1         Medium                5                        144           11   \n",
      "2           Easy               16                        142           35   \n",
      "3           Easy                9                         85           57   \n",
      "4         Medium                2                        131           95   \n",
      "\n",
      "   AchievementsUnlocked EngagementLevel  \n",
      "0                    25          Medium  \n",
      "1                    10          Medium  \n",
      "2                    41            High  \n",
      "3                    47          Medium  \n",
      "4                    37          Medium  \n",
      "           PlayerID           Age  PlayTimeHours  InGamePurchases  \\\n",
      "count  40034.000000  40034.000000   40034.000000     40034.000000   \n",
      "mean   29016.500000     31.992531      12.024365         0.200854   \n",
      "std    11556.964675     10.043227       6.914638         0.400644   \n",
      "min     9000.000000     15.000000       0.000115         0.000000   \n",
      "25%    19008.250000     23.000000       6.067501         0.000000   \n",
      "50%    29016.500000     32.000000      12.008002         0.000000   \n",
      "75%    39024.750000     41.000000      17.963831         0.000000   \n",
      "max    49033.000000     49.000000      23.999592         1.000000   \n",
      "\n",
      "       SessionsPerWeek  AvgSessionDurationMinutes   PlayerLevel  \\\n",
      "count     40034.000000               40034.000000  40034.000000   \n",
      "mean          9.471774                  94.792252     49.655568   \n",
      "std           5.763667                  49.011375     28.588379   \n",
      "min           0.000000                  10.000000      1.000000   \n",
      "25%           4.000000                  52.000000     25.000000   \n",
      "50%           9.000000                  95.000000     49.000000   \n",
      "75%          14.000000                 137.000000     74.000000   \n",
      "max          19.000000                 179.000000     99.000000   \n",
      "\n",
      "       AchievementsUnlocked  \n",
      "count          40034.000000  \n",
      "mean              24.526477  \n",
      "std               14.430726  \n",
      "min                0.000000  \n",
      "25%               12.000000  \n",
      "50%               25.000000  \n",
      "75%               37.000000  \n",
      "max               49.000000  \n",
      "<class 'pandas.core.frame.DataFrame'>\n",
      "RangeIndex: 40034 entries, 0 to 40033\n",
      "Data columns (total 13 columns):\n",
      " #   Column                     Non-Null Count  Dtype  \n",
      "---  ------                     --------------  -----  \n",
      " 0   PlayerID                   40034 non-null  int64  \n",
      " 1   Age                        40034 non-null  int64  \n",
      " 2   Gender                     40034 non-null  object \n",
      " 3   Location                   40034 non-null  object \n",
      " 4   GameGenre                  40034 non-null  object \n",
      " 5   PlayTimeHours              40034 non-null  float64\n",
      " 6   InGamePurchases            40034 non-null  int64  \n",
      " 7   GameDifficulty             40034 non-null  object \n",
      " 8   SessionsPerWeek            40034 non-null  int64  \n",
      " 9   AvgSessionDurationMinutes  40034 non-null  int64  \n",
      " 10  PlayerLevel                40034 non-null  int64  \n",
      " 11  AchievementsUnlocked       40034 non-null  int64  \n",
      " 12  EngagementLevel            40034 non-null  object \n",
      "dtypes: float64(1), int64(7), object(5)\n",
      "memory usage: 4.0+ MB\n",
      "None\n"
     ]
    },
    {
     "data": {
      "image/png": "[encoded data removed]",
      "text/plain": [
       "<Figure size 640x480 with 1 Axes>"
      ]
     },
     "metadata": {},
     "output_type": "display_data"
    }
   ],
   "source": [
    "import pandas as pd\n",
    "import numpy as np\n",
    "import seaborn as sns\n",
    "import matplotlib.pyplot as plt\n",
    "\n",
    "# Load the dataset\n",
    "df = pd.read_csv('/kaggle/input/predict-online-gaming-behavior-dataset/online_gaming_behavior_dataset.csv')\n",
    "\n",
    "# Display the first few rows of the dataset\n",
    "print(df.head())\n",
    "\n",
    "# Summary statistics\n",
    "print(df.describe())\n",
    "\n",
    "# Data types and missing values\n",
    "print(df.info())\n",
    "\n",
    "# Check the distribution of the target variable\n",
    "sns.countplot(x='EngagementLevel', data=df)\n",
    "plt.title('Distribution of Engagement Level')\n",
    "plt.show()"
   ]
  },
  {
   "cell_type": "code",
   "execution_count": 2,
   "id": "2464fe79",
   "metadata": {
    "execution": {
     "iopub.execute_input": "2024-06-26T12:51:53.054512Z",
     "iopub.status.busy": "2024-06-26T12:51:53.054066Z",
     "iopub.status.idle": "2024-06-26T12:51:53.491072Z",
     "shell.execute_reply": "2024-06-26T12:51:53.489886Z"
    },
    "papermill": {
     "duration": 0.446187,
     "end_time": "2024-06-26T12:51:53.494018",
     "exception": false,
     "start_time": "2024-06-26T12:51:53.047831",
     "status": "completed"
    },
    "tags": []
   },
   "outputs": [
    {
     "name": "stdout",
     "output_type": "stream",
     "text": [
      "PlayerID                     0\n",
      "Age                          0\n",
      "Gender                       0\n",
      "Location                     0\n",
      "GameGenre                    0\n",
      "PlayTimeHours                0\n",
      "InGamePurchases              0\n",
      "GameDifficulty               0\n",
      "SessionsPerWeek              0\n",
      "AvgSessionDurationMinutes    0\n",
      "PlayerLevel                  0\n",
      "AchievementsUnlocked         0\n",
      "EngagementLevel              0\n",
      "dtype: int64\n"
     ]
    }
   ],
   "source": [
    "# Check for missing values\n",
    "print(df.isnull().sum())\n",
    "\n",
    "# Handle missing values (if any)\n",
    "df = df.dropna()  # Dropping missing values for simplicity\n",
    "\n",
    "# Encode categorical variables\n",
    "from sklearn.preprocessing import LabelEncoder\n",
    "\n",
    "le = LabelEncoder()\n",
    "df['Gender'] = le.fit_transform(df['Gender'])\n",
    "df['Location'] = le.fit_transform(df['Location'])\n",
    "df['GameGenre'] = le.fit_transform(df['GameGenre'])\n",
    "df['GameDifficulty'] = le.fit_transform(df['GameDifficulty'])\n",
    "df['EngagementLevel'] = le.fit_transform(df['EngagementLevel'])\n",
    "\n",
    "# Normalize numerical features\n",
    "from sklearn.preprocessing import StandardScaler\n",
    "\n",
    "scaler = StandardScaler()\n",
    "numerical_features = ['Age', 'PlayTimeHours', 'SessionsPerWeek', 'AvgSessionDurationMinutes', 'PlayerLevel', 'AchievementsUnlocked']\n",
    "df[numerical_features] = scaler.fit_transform(df[numerical_features])\n",
    "\n",
    "# Splitting the dataset into features and target variable\n",
    "X = df.drop(['PlayerID', 'EngagementLevel'], axis=1)\n",
    "y = df['EngagementLevel']"
   ]
  },
  {
   "cell_type": "code",
   "execution_count": 3,
   "id": "576d116a",
   "metadata": {
    "execution": {
     "iopub.execute_input": "2024-06-26T12:51:53.505182Z",
     "iopub.status.busy": "2024-06-26T12:51:53.504738Z",
     "iopub.status.idle": "2024-06-26T12:51:53.518820Z",
     "shell.execute_reply": "2024-06-26T12:51:53.517345Z"
    },
    "papermill": {
     "duration": 0.022895,
     "end_time": "2024-06-26T12:51:53.521628",
     "exception": false,
     "start_time": "2024-06-26T12:51:53.498733",
     "status": "completed"
    },
    "tags": []
   },
   "outputs": [],
   "source": [
    "# Creating a new feature based on PlayTimeHours and SessionsPerWeek\n",
    "df['TotalPlayTimePerWeek'] = df['PlayTimeHours'] * df['SessionsPerWeek']\n",
    "\n",
    "# Update the feature set\n",
    "X = df.drop(['PlayerID', 'EngagementLevel'], axis=1)"
   ]
  },
  {
   "cell_type": "code",
   "execution_count": 4,
   "id": "8c62d9ed",
   "metadata": {
    "execution": {
     "iopub.execute_input": "2024-06-26T12:51:53.534273Z",
     "iopub.status.busy": "2024-06-26T12:51:53.533242Z",
     "iopub.status.idle": "2024-06-26T12:52:00.653790Z",
     "shell.execute_reply": "2024-06-26T12:52:00.652371Z"
    },
    "papermill": {
     "duration": 7.129827,
     "end_time": "2024-06-26T12:52:00.656541",
     "exception": false,
     "start_time": "2024-06-26T12:51:53.526714",
     "status": "completed"
    },
    "tags": []
   },
   "outputs": [
    {
     "name": "stdout",
     "output_type": "stream",
     "text": [
      "[[2730  106  296]\n",
      " [  94 2686  289]\n",
      " [ 144  178 5488]]\n",
      "              precision    recall  f1-score   support\n",
      "\n",
      "           0       0.92      0.87      0.90      3132\n",
      "           1       0.90      0.88      0.89      3069\n",
      "           2       0.90      0.94      0.92      5810\n",
      "\n",
      "    accuracy                           0.91     12011\n",
      "   macro avg       0.91      0.90      0.90     12011\n",
      "weighted avg       0.91      0.91      0.91     12011\n",
      "\n"
     ]
    }
   ],
   "source": [
    "from sklearn.model_selection import train_test_split\n",
    "from sklearn.ensemble import RandomForestClassifier\n",
    "from sklearn.metrics import classification_report, confusion_matrix\n",
    "\n",
    "# Split the data into training and testing sets\n",
    "X_train, X_test, y_train, y_test = train_test_split(X, y, test_size=0.3, random_state=42)\n",
    "\n",
    "# Initialize the model\n",
    "model = RandomForestClassifier(n_estimators=100, random_state=42)\n",
    "\n",
    "# Train the model\n",
    "model.fit(X_train, y_train)\n",
    "\n",
    "# Make predictions\n",
    "y_pred = model.predict(X_test)\n",
    "\n",
    "# Evaluate the model\n",
    "print(confusion_matrix(y_test, y_pred))\n",
    "print(classification_report(y_test, y_pred))"
   ]
  },
  {
   "cell_type": "code",
   "execution_count": 5,
   "id": "1b7963e3",
   "metadata": {
    "execution": {
     "iopub.execute_input": "2024-06-26T12:52:00.668061Z",
     "iopub.status.busy": "2024-06-26T12:52:00.667600Z",
     "iopub.status.idle": "2024-06-26T12:52:00.698049Z",
     "shell.execute_reply": "2024-06-26T12:52:00.696365Z"
    },
    "papermill": {
     "duration": 0.039352,
     "end_time": "2024-06-26T12:52:00.700737",
     "exception": false,
     "start_time": "2024-06-26T12:52:00.661385",
     "status": "completed"
    },
    "tags": []
   },
   "outputs": [
    {
     "name": "stdout",
     "output_type": "stream",
     "text": [
      "Accuracy: 0.9078344850553659\n",
      "Precision: 0.9080606657532484\n",
      "Recall: 0.9078344850553659\n",
      "F1 Score: 0.9074986743785072\n"
     ]
    }
   ],
   "source": [
    "# Example of evaluation metrics\n",
    "from sklearn.metrics import accuracy_score, precision_score, recall_score, f1_score\n",
    "\n",
    "accuracy = accuracy_score(y_test, y_pred)\n",
    "precision = precision_score(y_test, y_pred, average='weighted')\n",
    "recall = recall_score(y_test, y_pred, average='weighted')\n",
    "f1 = f1_score(y_test, y_pred, average='weighted')\n",
    "\n",
    "print(f'Accuracy: {accuracy}')\n",
    "print(f'Precision: {precision}')\n",
    "print(f'Recall: {recall}')\n",
    "print(f'F1 Score: {f1}')"
   ]
  },
  {
   "cell_type": "code",
   "execution_count": 6,
   "id": "ecfcc797",
   "metadata": {
    "execution": {
     "iopub.execute_input": "2024-06-26T12:52:00.712214Z",
     "iopub.status.busy": "2024-06-26T12:52:00.711767Z",
     "iopub.status.idle": "2024-06-26T12:52:01.113458Z",
     "shell.execute_reply": "2024-06-26T12:52:01.112020Z"
    },
    "papermill": {
     "duration": 0.410914,
     "end_time": "2024-06-26T12:52:01.116491",
     "exception": false,
     "start_time": "2024-06-26T12:52:00.705577",
     "status": "completed"
    },
    "tags": []
   },
   "outputs": [
    {
     "data": {
      "image/png": "[encoded data removed]",
      "text/plain": [
       "<Figure size 1000x600 with 1 Axes>"
      ]
     },
     "metadata": {},
     "output_type": "display_data"
    }
   ],
   "source": [
    "# Feature importance\n",
    "importances = model.feature_importances_\n",
    "feature_names = X.columns\n",
    "feature_importances = pd.Series(importances, index=feature_names).sort_values(ascending=False)\n",
    "\n",
    "# Plotting feature importances\n",
    "plt.figure(figsize=(10, 6))\n",
    "sns.barplot(x=feature_importances, y=feature_importances.index)\n",
    "plt.title('Feature Importances')\n",
    "plt.show()"
   ]
  }
 ],
 "metadata": {
  "kaggle": {
   "accelerator": "none",
   "dataSources": [
    {
     "datasetId": 5249173,
     "sourceId": 8742674,
     "sourceType": "datasetVersion"
    }
   ],
   "dockerImageVersionId": 30732,
   "isGpuEnabled": false,
   "isInternetEnabled": true,
   "language": "python",
   "sourceType": "notebook"
  },
  "kernelspec": {
   "display_name": "Python 3",
   "language": "python",
   "name": "python3"
  },
  "language_info": {
   "codemirror_mode": {
    "name": "ipython",
    "version": 3
   },
   "file_extension": ".py",
   "mimetype": "text/x-python",
   "name": "python",
   "nbconvert_exporter": "python",
   "pygments_lexer": "ipython3",
   "version": "3.10.13"
  },
  "papermill": {
   "default_parameters": {},
   "duration": 15.724211,
   "end_time": "2024-06-26T12:52:01.845151",
   "environment_variables": {},
   "exception": null,
   "input_path": "__notebook__.ipynb",
   "output_path": "__notebook__.ipynb",
   "parameters": {},
   "start_time": "2024-06-26T12:51:46.120940",
   "version": "2.5.0"
  }
 },
 "nbformat": 4,
 "nbformat_minor": 5
}
